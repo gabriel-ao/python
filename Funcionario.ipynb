{
 "cells": [
  {
   "cell_type": "code",
   "execution_count": 11,
   "metadata": {},
   "outputs": [
    {
     "name": "stdout",
     "output_type": "stream",
     "text": [
      "gabriel\n",
      "1600\n"
     ]
    }
   ],
   "source": [
    "class Funcionario:\n",
    "  def __init__(self, name, salario):\n",
    "    self.name = name\n",
    "    self.salario = salario\n",
    "    \n",
    "  def setName(self, name):\n",
    "    self.name = name\n",
    "    \n",
    "  def setSalario(self, salario):\n",
    "    self.salario = salario    \n",
    "\n",
    "empregado = Funcionario(\"gabriel\", 1600)\n",
    "\n",
    "print(empregado.name)\n",
    "print(empregado.salario)"
   ]
  },
  {
   "cell_type": "code",
   "execution_count": null,
   "metadata": {},
   "outputs": [],
   "source": [
    "\n"
   ]
  }
 ],
 "metadata": {
  "kernelspec": {
   "display_name": "Python 2",
   "language": "python",
   "name": "python2"
  },
  "language_info": {
   "codemirror_mode": {
    "name": "ipython",
    "version": 2
   },
   "file_extension": ".py",
   "mimetype": "text/x-python",
   "name": "python",
   "nbconvert_exporter": "python",
   "pygments_lexer": "ipython2",
   "version": "2.7.16"
  }
 },
 "nbformat": 4,
 "nbformat_minor": 2
}
